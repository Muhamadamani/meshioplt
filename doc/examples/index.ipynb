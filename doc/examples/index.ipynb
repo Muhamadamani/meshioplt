{
 "cells": [
  {
   "cell_type": "markdown",
   "metadata": {
    "slideshow": {
     "slide_type": "slide"
    }
   },
   "source": [
    "# How to plot unstructured mesh file on Jupyter Notebook\n",
    "\n",
    "@tkoyama010 @PyConJP2020"
   ]
  },
  {
   "cell_type": "markdown",
   "metadata": {
    "slideshow": {
     "slide_type": "slide"
    }
   },
   "source": [
    "# Introduction\n",
    "\n",
    "## Who am I ? About @tkoyama010\n",
    "\n",
    "FEM  library  #getfem commiter & translator 🇯🇵\n",
    "\n",
    "🖊 qiita.com/tkoyama010\n",
    "\n",
    "🖊 note.com/tkoyama\n",
    "\n",
    "❤ ScipyJapan2020(scipyjapan.scipy.org)"
   ]
  },
  {
   "cell_type": "markdown",
   "metadata": {
    "slideshow": {
     "slide_type": "subslide"
    }
   },
   "source": [
    "## Summary\n",
    "\n",
    "- Introduction (1 min)\n",
    "- Using library (4 min)\n",
    "- Examples (4 min)\n",
    "- Development of meshioplt (4 min)\n",
    "- Summary (1 min)\n",
    "- Questions and answers (1 min)"
   ]
  },
  {
   "cell_type": "markdown",
   "metadata": {
    "slideshow": {
     "slide_type": "slide"
    }
   },
   "source": [
    "# Using library\n",
    "<p align=\"center\">\n",
    "  <a href=\"https://github.com/nschloe/meshio\"><img alt=\"meshio\" src=\"m2_about.jpg\" width=\"40%\"></a>\n",
    "</p>"
   ]
  },
  {
   "cell_type": "code",
   "execution_count": 1,
   "metadata": {
    "slideshow": {
     "slide_type": "slide"
    }
   },
   "outputs": [
    {
     "name": "stdout",
     "output_type": "stream",
     "text": [
      "# vtk DataFile Version 2.0\r\n",
      "Exported by getfem++\r\n",
      "ASCII\r\n",
      "DATASET UNSTRUCTURED_GRID\r\n",
      "POINTS 9 float\r\n",
      " 0 0 0\r\n",
      " 1 0 0\r\n",
      " 0 1 0\r\n",
      " 1 1 0\r\n",
      " 2 0 0\r\n",
      " 2 1 0\r\n",
      " 0 2 0\r\n",
      " 1 2 0\r\n",
      " 2 2 0\r\n",
      "\r\n",
      "CELLS 4 20\r\n",
      " 4 0 1 3 2\r\n",
      " 4 1 4 5 3\r\n",
      " 4 2 3 7 6\r\n",
      " 4 3 5 8 7\r\n",
      "\r\n",
      "CELL_TYPES 4\r\n",
      " 9\r\n",
      " 9\r\n",
      " 9\r\n",
      " 9\r\n"
     ]
    }
   ],
   "source": [
    "!cat m.vtk"
   ]
  },
  {
   "cell_type": "markdown",
   "metadata": {
    "slideshow": {
     "slide_type": "slide"
    }
   },
   "source": [
    "# Using library"
   ]
  },
  {
   "cell_type": "code",
   "execution_count": 2,
   "metadata": {
    "slideshow": {
     "slide_type": "subslide"
    }
   },
   "outputs": [
    {
     "data": {
      "text/plain": [
       "<pyvirtualdisplay.display.Display at 0x7f0c10bc76a0>"
      ]
     },
     "execution_count": 2,
     "metadata": {},
     "output_type": "execute_result"
    }
   ],
   "source": [
    "from pyvirtualdisplay import Display\n",
    "display = Display(visible=0, size=(1400, 900))\n",
    "display.start()"
   ]
  },
  {
   "cell_type": "code",
   "execution_count": 3,
   "metadata": {
    "slideshow": {
     "slide_type": "subslide"
    }
   },
   "outputs": [
    {
     "name": "stdout",
     "output_type": "stream",
     "text": [
      "QStandardPaths: XDG_RUNTIME_DIR not set, defaulting to '/tmp/runtime-jovyan'\r\n"
     ]
    },
    {
     "data": {
      "image/png": "[encoded data removed]",
      "text/plain": [
       "<IPython.core.display.Image object>"
      ]
     },
     "execution_count": 3,
     "metadata": {},
     "output_type": "execute_result"
    }
   ],
   "source": [
    "!mayavi2 --offscreen -d m.vtk -m Axes -f ExtractEdges -m Surface \\\n",
    "-s \"scene.save('mesh.png', size=(700, 500))\"\n",
    "from IPython.display import Image\n",
    "Image(\"mesh.png\")"
   ]
  },
  {
   "cell_type": "markdown",
   "metadata": {
    "slideshow": {
     "slide_type": "subslide"
    }
   },
   "source": [
    "# Using library\n",
    "<p align=\"center\">\n",
    "  <a href=\"https://github.com/nschloe/meshio\"><img alt=\"meshio\" src=\"https://nschloe.github.io/meshio/logo-with-text.svg\" width=\"40%\"></a>\n",
    "  <a href=\"https://github.com/matplotlib/matplotlib\"><img alt=\"meshio\" src=\"https://matplotlib.org/_static/logo2.svg\" width=\"40%\"></a>\n",
    "</p>"
   ]
  },
  {
   "cell_type": "markdown",
   "metadata": {
    "slideshow": {
     "slide_type": "subslide"
    }
   },
   "source": [
    "# Using library\n",
    "## meshio and matplotlib"
   ]
  },
  {
   "cell_type": "code",
   "execution_count": 4,
   "metadata": {
    "slideshow": {
     "slide_type": "slide"
    }
   },
   "outputs": [],
   "source": [
    "import meshio\n",
    "import matplotlib\n",
    "import matplotlib.pyplot as plt"
   ]
  },
  {
   "cell_type": "markdown",
   "metadata": {
    "slideshow": {
     "slide_type": "slide"
    }
   },
   "source": [
    "# Examples\n",
    "## plotting unstructured 2D mesh and data"
   ]
  },
  {
   "cell_type": "markdown",
   "metadata": {
    "slideshow": {
     "slide_type": "subslide"
    }
   },
   "source": [
    "# Examples\n",
    "## plotting unstructured 2D mesh and data"
   ]
  },
  {
   "cell_type": "code",
   "execution_count": 5,
   "metadata": {
    "slideshow": {
     "slide_type": "slide"
    }
   },
   "outputs": [],
   "source": [
    "mesh = meshio.read(\"m.vtk\")"
   ]
  },
  {
   "cell_type": "code",
   "execution_count": 6,
   "metadata": {
    "slideshow": {
     "slide_type": "slide"
    }
   },
   "outputs": [],
   "source": [
    "points = mesh.points\n",
    "cells = mesh.cells"
   ]
  },
  {
   "cell_type": "code",
   "execution_count": 7,
   "metadata": {
    "slideshow": {
     "slide_type": "slide"
    }
   },
   "outputs": [
    {
     "data": {
      "text/plain": [
       "[CellBlock(type='quad', data=array([[0, 1, 3, 2],\n",
       "        [1, 4, 5, 3],\n",
       "        [2, 3, 7, 6],\n",
       "        [3, 5, 8, 7]]))]"
      ]
     },
     "execution_count": 7,
     "metadata": {},
     "output_type": "execute_result"
    }
   ],
   "source": [
    "cells"
   ]
  },
  {
   "cell_type": "code",
   "execution_count": 8,
   "metadata": {
    "slideshow": {
     "slide_type": "slide"
    }
   },
   "outputs": [],
   "source": [
    "figure = plt.figure()\n",
    "axe = figure.add_subplot(111)\n",
    "for cell in cells:\n",
    "    for index in cell.data:\n",
    "        polygon = plt.Polygon(\n",
    "            (\n",
    "                (points[index[0], 0], points[index[0], 1]),\n",
    "                (points[index[1], 0], points[index[1], 1]),\n",
    "                (points[index[2], 0], points[index[2], 1]),\n",
    "                (points[index[3], 0], points[index[3], 1]),\n",
    "            ),\n",
    "            edgecolor=\"black\",\n",
    "            facecolor=\"gray\",\n",
    "        )\n",
    "        axe.add_patch(polygon)\n",
    "axe.set_aspect(\"equal\")\n",
    "plt.xlim(-1.0, 3.0)\n",
    "plt.ylim(-1.0, 3.0)\n",
    "plt.savefig(\"mesh.png\")\n",
    "plt.close()"
   ]
  },
  {
   "cell_type": "code",
   "execution_count": 9,
   "metadata": {
    "slideshow": {
     "slide_type": "subslide"
    }
   },
   "outputs": [
    {
     "data": {
      "image/png": "[encoded data removed]",
      "text/plain": [
       "<IPython.core.display.Image object>"
      ]
     },
     "execution_count": 9,
     "metadata": {},
     "output_type": "execute_result"
    }
   ],
   "source": [
    "from IPython.display import Image\n",
    "Image(\"mesh.png\")"
   ]
  },
  {
   "cell_type": "markdown",
   "metadata": {
    "slideshow": {
     "slide_type": "slide"
    }
   },
   "source": [
    "# Examples\n",
    "## plotting unstructured 3D mesh and data"
   ]
  },
  {
   "cell_type": "markdown",
   "metadata": {
    "slideshow": {
     "slide_type": "subslide"
    }
   },
   "source": [
    "# Examples\n",
    "## plotting unstructured 3D mesh and data"
   ]
  },
  {
   "cell_type": "markdown",
   "metadata": {
    "slideshow": {
     "slide_type": "slide"
    }
   },
   "source": [
    "# development of meshioplt"
   ]
  },
  {
   "cell_type": "markdown",
   "metadata": {
    "slideshow": {
     "slide_type": "slide"
    }
   },
   "source": [
    "# What we can do in meshioplt\n",
    "\n",
    "We can read mesh file and write to AxesSubplot. We can use AxesSubplot as matplotlib's AxesSubplot"
   ]
  },
  {
   "cell_type": "markdown",
   "metadata": {
    "slideshow": {
     "slide_type": "subslide"
    }
   },
   "source": [
    "# development of meshioplt"
   ]
  },
  {
   "cell_type": "code",
   "execution_count": 10,
   "metadata": {
    "slideshow": {
     "slide_type": "fragment"
    }
   },
   "outputs": [],
   "source": [
    "from meshioplt import mesh_patches\n",
    "\n",
    "figure = plt.figure()\n",
    "axe = figure.add_subplot(111)\n",
    "patches = mesh_patches(\"m.vtk\")\n",
    "for patch in patches:\n",
    "    axe.add_patch(patch)\n",
    "axe.set_aspect(\"equal\")\n",
    "plt.xlim(-1.0, 3.0)\n",
    "plt.ylim(-1.0, 3.0)\n",
    "plt.savefig(\"mesh.png\")\n",
    "plt.close()"
   ]
  },
  {
   "cell_type": "code",
   "execution_count": 11,
   "metadata": {
    "slideshow": {
     "slide_type": "subslide"
    }
   },
   "outputs": [
    {
     "data": {
      "image/png": "[encoded data removed]",
      "text/plain": [
       "<IPython.core.display.Image object>"
      ]
     },
     "execution_count": 11,
     "metadata": {},
     "output_type": "execute_result"
    }
   ],
   "source": [
    "from IPython.display import Image\n",
    "Image(\"mesh.png\")"
   ]
  },
  {
   "cell_type": "markdown",
   "metadata": {
    "slideshow": {
     "slide_type": "subslide"
    }
   },
   "source": [
    "# development of meshioplt\n",
    "\n",
    "\n",
    "<p align=\"center\">\n",
    "  <a href=\"https://github.com/nschloe/meshio\"><img alt=\"meshio\" src=\"https://nschloe.github.io/meshio/logo-with-text.svg\" width=\"40%\"></a>\n",
    "  <a href=\"https://upload.wikimedia.org/wikipedia/commons/c/c8/Love_Heart_symbol.svg\"><img alt=\"heart\" src=\"https://upload.wikimedia.org/wikipedia/commons/c/c8/Love_Heart_symbol.svg\" width=\"20%\"></a>\n",
    "  <a href=\"https://github.com/matplotlib/matplotlib\"><img alt=\"meshio\" src=\"https://matplotlib.org/_static/logo2.svg\" width=\"40%\"></a>\n",
    "</p>"
   ]
  },
  {
   "cell_type": "markdown",
   "metadata": {
    "slideshow": {
     "slide_type": "slide"
    }
   },
   "source": [
    "# Summary\n",
    "- Introduction (1 min)\n",
    "- Using library (4 min)\n",
    "- Examples (4 min)\n",
    "- Development of meshioplt (4 min)\n",
    "- Summary (1 min)\n",
    "- Questions and answers (1 min)"
   ]
  },
  {
   "cell_type": "markdown",
   "metadata": {
    "slideshow": {
     "slide_type": "subslide"
    }
   },
   "source": [
    "# Questions and answers"
   ]
  }
 ],
 "metadata": {
  "celltoolbar": "Slideshow",
  "kernelspec": {
   "display_name": "Python 3",
   "language": "python",
   "name": "python3"
  },
  "language_info": {
   "codemirror_mode": {
    "name": "ipython",
    "version": 3
   },
   "file_extension": ".py",
   "mimetype": "text/x-python",
   "name": "python",
   "nbconvert_exporter": "python",
   "pygments_lexer": "ipython3",
   "version": "3.8.2"
  }
 },
 "nbformat": 4,
 "nbformat_minor": 4
}
